{
 "cells": [
  {
   "cell_type": "code",
   "execution_count": 39,
   "id": "e4b75770",
   "metadata": {},
   "outputs": [
    {
     "name": "stdout",
     "output_type": "stream",
     "text": [
      "['model_120000_steps.zip', 'model_240000_steps.zip']\n",
      "model_240000_steps.zip\n"
     ]
    },
    {
     "data": {
      "text/plain": [
       "<matplotlib.image.AxesImage at 0x7fbd6d9839a0>"
      ]
     },
     "execution_count": 39,
     "metadata": {},
     "output_type": "execute_result"
    },
    {
     "data": {
      "image/png": "[encoded data removed]",
      "text/plain": [
       "<Figure size 432x288 with 1 Axes>"
      ]
     },
     "metadata": {},
     "output_type": "display_data"
    }
   ],
   "source": [
    "# Loading a saved model\n",
    "import gym\n",
    "import src\n",
    "import os\n",
    "import numpy as np\n",
    "from stable_baselines3 import PPO, DQN\n",
    "from stable_baselines3.common.evaluation import evaluate_policy\n",
    "import matplotlib.pyplot as plt\n",
    "plt.style.use('dark_background')\n",
    "\n",
    "run_id = '20220523_1'\n",
    "path = 'data/'+run_id+'/'\n",
    "\n",
    "image = np.load('images/set2/set2_image1.npy')\n",
    "\n",
    "files = [f for f in os.listdir(path) if f[-4:] == '.zip']\n",
    "files = sorted(files)\n",
    "file = files[-1]\n",
    "print(files)\n",
    "print(file)\n",
    "model = DQN.load(path+file)\n",
    "env = src.XtalEnv(images=[image], save_replay=True)\n",
    "env.reset(start_full_image=False)\n",
    "\n",
    "subwindow = env.window.subwindows[-1]\n",
    "lined_image = env.window.draw_lines(image.copy(), [i for i in range(len(env.window.subwindows)-1)])\n",
    "plt.imshow(lined_image)\n",
    "\n",
    "# mean_reward, std_reward = evaluate_policy(model, env, n_eval_episodes=10)\n",
    "# print(mean_reward, std_reward)"
   ]
  },
  {
   "cell_type": "code",
   "execution_count": 1,
   "id": "c4f62121",
   "metadata": {},
   "outputs": [
    {
     "ename": "NameError",
     "evalue": "name 'env' is not defined",
     "output_type": "error",
     "traceback": [
      "\u001b[0;31m---------------------------------------------------------------------------\u001b[0m",
      "\u001b[0;31mNameError\u001b[0m                                 Traceback (most recent call last)",
      "\u001b[0;32m/tmp/ipykernel_51789/2645420030.py\u001b[0m in \u001b[0;36m<module>\u001b[0;34m\u001b[0m\n\u001b[1;32m      6\u001b[0m \u001b[0mpixel_ratios\u001b[0m \u001b[0;34m=\u001b[0m \u001b[0;34m[\u001b[0m\u001b[0;34m]\u001b[0m\u001b[0;34m\u001b[0m\u001b[0;34m\u001b[0m\u001b[0m\n\u001b[1;32m      7\u001b[0m \u001b[0;34m\u001b[0m\u001b[0m\n\u001b[0;32m----> 8\u001b[0;31m \u001b[0mobs\u001b[0m \u001b[0;34m=\u001b[0m \u001b[0menv\u001b[0m\u001b[0;34m.\u001b[0m\u001b[0mreset\u001b[0m\u001b[0;34m(\u001b[0m\u001b[0mstart_full_image\u001b[0m\u001b[0;34m=\u001b[0m\u001b[0;32mFalse\u001b[0m\u001b[0;34m)\u001b[0m\u001b[0;34m\u001b[0m\u001b[0;34m\u001b[0m\u001b[0m\n\u001b[0m\u001b[1;32m      9\u001b[0m \u001b[0;32mfor\u001b[0m \u001b[0mi\u001b[0m \u001b[0;32min\u001b[0m \u001b[0mrange\u001b[0m\u001b[0;34m(\u001b[0m\u001b[0mtotal_steps\u001b[0m\u001b[0;34m)\u001b[0m\u001b[0;34m:\u001b[0m\u001b[0;34m\u001b[0m\u001b[0;34m\u001b[0m\u001b[0m\n\u001b[1;32m     10\u001b[0m     \u001b[0maction\u001b[0m\u001b[0;34m,\u001b[0m \u001b[0m_states\u001b[0m \u001b[0;34m=\u001b[0m \u001b[0mmodel\u001b[0m\u001b[0;34m.\u001b[0m\u001b[0mpredict\u001b[0m\u001b[0;34m(\u001b[0m\u001b[0mobs\u001b[0m\u001b[0;34m,\u001b[0m \u001b[0mdeterministic\u001b[0m\u001b[0;34m=\u001b[0m\u001b[0;32mTrue\u001b[0m\u001b[0;34m)\u001b[0m\u001b[0;34m\u001b[0m\u001b[0;34m\u001b[0m\u001b[0m\n",
      "\u001b[0;31mNameError\u001b[0m: name 'env' is not defined"
     ]
    }
   ],
   "source": [
    "# Running a test run\n",
    "total_steps = 200\n",
    "actions = []\n",
    "rewards = []\n",
    "num_polygons = []\n",
    "pixel_ratios = []\n",
    "\n",
    "obs = env.reset(start_full_image=False)\n",
    "for i in range(total_steps):\n",
    "    action, _states = model.predict(obs, deterministic=True)\n",
    "    obs, reward, done, _ = env.step(int(action))\n",
    "    num_polygons.append(env.window.subwindows[-1]['enclosed']['num_polygons'])\n",
    "    pixel_ratios.append(env.window.subwindows[-1]['enclosed']['pixel_ratio'])\n",
    "    if done: break\n",
    "    \n",
    "    actions.append(int(action))\n",
    "    rewards.append(reward)\n",
    "    \n",
    "    \n",
    "#  Displaying the results\n",
    "import matplotlib.pyplot as plt\n",
    "from matplotlib import animation\n",
    "\n",
    "def draw_lines(original_image, coordinates):\n",
    "    image = original_image.copy()\n",
    "    val = 1\n",
    "    \n",
    "    for x in range(coordinates[2], coordinates[3]):\n",
    "        image[coordinates[0]][x] = val\n",
    "        image[coordinates[1]-1][x] = val\n",
    "    for y in range(coordinates[0], coordinates[1]):\n",
    "        image[y][coordinates[2]] = val\n",
    "        image[y][coordinates[3]-1] = val\n",
    "    \n",
    "    return image\n",
    "\n",
    "replays = env.replay\n",
    "fig = plt.figure()\n",
    "ax = plt.gca()\n",
    "im = plt.imshow(draw_lines(image, replays[0]))\n",
    "\n",
    "def updatefig(i):\n",
    "    image_mod = draw_lines(image, replays[i])\n",
    "    im.set_array(image_mod)\n",
    "\n",
    "    return im\n",
    "\n",
    "ani = animation.FuncAnimation(fig, updatefig, interval=20, frames=len(actions))\n"
   ]
  },
  {
   "cell_type": "code",
   "execution_count": 2,
   "id": "0b282d0d",
   "metadata": {},
   "outputs": [
    {
     "ename": "NameError",
     "evalue": "name 'env' is not defined",
     "output_type": "error",
     "traceback": [
      "\u001b[0;31m---------------------------------------------------------------------------\u001b[0m",
      "\u001b[0;31mNameError\u001b[0m                                 Traceback (most recent call last)",
      "\u001b[0;32m/tmp/ipykernel_51789/3684273497.py\u001b[0m in \u001b[0;36m<module>\u001b[0;34m\u001b[0m\n\u001b[1;32m      1\u001b[0m \u001b[0;31m# Displaying frame by frame\u001b[0m\u001b[0;34m\u001b[0m\u001b[0;34m\u001b[0m\u001b[0m\n\u001b[0;32m----> 2\u001b[0;31m \u001b[0;32mfor\u001b[0m \u001b[0mi\u001b[0m\u001b[0;34m,\u001b[0m \u001b[0mcoordinates\u001b[0m \u001b[0;32min\u001b[0m \u001b[0menumerate\u001b[0m\u001b[0;34m(\u001b[0m\u001b[0menv\u001b[0m\u001b[0;34m.\u001b[0m\u001b[0mreplay\u001b[0m\u001b[0;34m)\u001b[0m\u001b[0;34m:\u001b[0m\u001b[0;34m\u001b[0m\u001b[0;34m\u001b[0m\u001b[0m\n\u001b[0m\u001b[1;32m      3\u001b[0m     print(coordinates,\n\u001b[1;32m      4\u001b[0m           \u001b[0msrc\u001b[0m\u001b[0;34m.\u001b[0m\u001b[0mconfig\u001b[0m\u001b[0;34m.\u001b[0m\u001b[0mACTION_CODE\u001b[0m\u001b[0;34m[\u001b[0m\u001b[0mactions\u001b[0m\u001b[0;34m[\u001b[0m\u001b[0mi\u001b[0m\u001b[0;34m]\u001b[0m\u001b[0;34m]\u001b[0m\u001b[0;34m[\u001b[0m\u001b[0;36m1\u001b[0m\u001b[0;34m]\u001b[0m\u001b[0;34m,\u001b[0m\u001b[0;34m\u001b[0m\u001b[0;34m\u001b[0m\u001b[0m\n\u001b[1;32m      5\u001b[0m           \u001b[0mrewards\u001b[0m\u001b[0;34m[\u001b[0m\u001b[0mi\u001b[0m\u001b[0;34m]\u001b[0m\u001b[0;34m,\u001b[0m\u001b[0;34m\u001b[0m\u001b[0;34m\u001b[0m\u001b[0m\n",
      "\u001b[0;31mNameError\u001b[0m: name 'env' is not defined"
     ]
    }
   ],
   "source": [
    "# Displaying frame by frame\n",
    "for i, coordinates in enumerate(env.replay):\n",
    "    print(coordinates,\n",
    "          src.config.ACTION_CODE[actions[i]][1],\n",
    "          rewards[i],\n",
    "          num_polygons[i],\n",
    "          pixel_ratios[i]\n",
    "          \n",
    "         )\n",
    "    image_mod = draw_lines(image, coordinates)\n",
    "    plt.imshow(image_mod)\n",
    "    plt.show()"
   ]
  }
 ],
 "metadata": {
  "kernelspec": {
   "display_name": "Python 3 (ipykernel)",
   "language": "python",
   "name": "python3"
  },
  "language_info": {
   "codemirror_mode": {
    "name": "ipython",
    "version": 3
   },
   "file_extension": ".py",
   "mimetype": "text/x-python",
   "name": "python",
   "nbconvert_exporter": "python",
   "pygments_lexer": "ipython3",
   "version": "3.9.7"
  }
 },
 "nbformat": 4,
 "nbformat_minor": 5
}
